{
 "cells": [
  {
   "cell_type": "code",
   "execution_count": 2,
   "metadata": {},
   "outputs": [],
   "source": [
    "import pandas as pd\n",
    "from parquet_demo.timer.timer import Timer\n",
    "from seaborn import boxplot"
   ]
  },
  {
   "cell_type": "code",
   "execution_count": 3,
   "metadata": {},
   "outputs": [],
   "source": [
    "data=pd.read_parquet(path=\"./../../data/apirh.parquet\",engine=\"pyarrow\")\n",
    "average_time=pd.DataFrame({'avg_time_csv':[None]*10,'avg_time_parquet':[None]*10})"
   ]
  },
  {
   "cell_type": "code",
   "execution_count": 5,
   "metadata": {},
   "outputs": [
    {
     "name": "stdout",
     "output_type": "stream",
     "text": [
      "Elapsed time: 13.7420 seconds\n",
      "Elapsed time: 13.1210 seconds\n",
      "Elapsed time: 13.1153 seconds\n",
      "Elapsed time: 14.0036 seconds\n",
      "Elapsed time: 13.2219 seconds\n",
      "Elapsed time: 13.1798 seconds\n",
      "Elapsed time: 14.6182 seconds\n",
      "Elapsed time: 15.8265 seconds\n",
      "Elapsed time: 12.7597 seconds\n",
      "Elapsed time: 13.0226 seconds\n"
     ]
    }
   ],
   "source": [
    "for i in range(10):\n",
    "    timer=Timer(\"write_parquet\")\n",
    "    with timer:\n",
    "        data.to_parquet(path=\"./../../data/export/apirh.parquet\",engine=\"pyarrow\")\n",
    "    average_time['avg_time_parquet'][i]=timer.elapsed_time"
   ]
  },
  {
   "cell_type": "code",
   "execution_count": 7,
   "metadata": {},
   "outputs": [
    {
     "name": "stdout",
     "output_type": "stream",
     "text": [
      "Elapsed time: 54.8753 seconds\n",
      "Elapsed time: 53.1264 seconds\n",
      "Elapsed time: 51.5029 seconds\n",
      "Elapsed time: 52.1489 seconds\n",
      "Elapsed time: 50.2834 seconds\n",
      "Elapsed time: 49.5159 seconds\n",
      "Elapsed time: 49.3939 seconds\n",
      "Elapsed time: 51.4319 seconds\n",
      "Elapsed time: 51.9214 seconds\n",
      "Elapsed time: 49.4780 seconds\n"
     ]
    }
   ],
   "source": [
    "for i in range(10):\n",
    "    timer=Timer(\"write_csv\")\n",
    "    with timer:\n",
    "        data.to_csv(path_or_buf=\"./../../data/export/apirh.csv\",sep=\"|\")\n",
    "    average_time['avg_time_csv'][i]=timer.elapsed_time"
   ]
  },
  {
   "cell_type": "code",
   "execution_count": null,
   "metadata": {},
   "outputs": [],
   "source": [
    "boxplot(data=average_time)"
   ]
  }
 ],
 "metadata": {
  "kernelspec": {
   "display_name": "Python 3.10.7 ('.venv': poetry)",
   "language": "python",
   "name": "python3"
  },
  "language_info": {
   "codemirror_mode": {
    "name": "ipython",
    "version": 3
   },
   "file_extension": ".py",
   "mimetype": "text/x-python",
   "name": "python",
   "nbconvert_exporter": "python",
   "pygments_lexer": "ipython3",
   "version": "3.10.7"
  },
  "orig_nbformat": 4,
  "vscode": {
   "interpreter": {
    "hash": "73662dcfe12689270b4cacb1b6bcdfa2487aabd3dee834f1c7cc4d701adf4a32"
   }
  }
 },
 "nbformat": 4,
 "nbformat_minor": 2
}
