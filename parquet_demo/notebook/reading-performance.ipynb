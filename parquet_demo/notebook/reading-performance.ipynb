{
 "cells": [
  {
   "cell_type": "code",
   "execution_count": 19,
   "metadata": {},
   "outputs": [],
   "source": [
    "import pandas as pd\n",
    "from parquet_demo.timer.timer import Timer\n",
    "from seaborn import boxplot"
   ]
  },
  {
   "cell_type": "code",
   "execution_count": 15,
   "metadata": {},
   "outputs": [],
   "source": [
    "average_time=pd.DataFrame({'avg_time_csv':[None]*10,'avg_time_parquet':[None]*10})"
   ]
  },
  {
   "cell_type": "code",
   "execution_count": 16,
   "metadata": {},
   "outputs": [
    {
     "name": "stdout",
     "output_type": "stream",
     "text": [
      "Elapsed time: 24.0558 seconds\n",
      "Elapsed time: 24.0597 seconds\n",
      "Elapsed time: 23.0116 seconds\n",
      "Elapsed time: 23.5712 seconds\n",
      "Elapsed time: 25.1721 seconds\n",
      "Elapsed time: 23.4657 seconds\n",
      "Elapsed time: 22.5313 seconds\n",
      "Elapsed time: 22.8327 seconds\n",
      "Elapsed time: 23.9229 seconds\n",
      "Elapsed time: 23.1185 seconds\n"
     ]
    }
   ],
   "source": [
    "for i in range(10):\n",
    "    timer=Timer(\"read_csv\")\n",
    "    with timer:\n",
    "        pd.read_csv(filepath_or_buffer=\"./../../data/apirh.csv\",sep=\"|\", low_memory=False)\n",
    "    average_time['avg_time_csv'][i]=(timer.elapsed_time)"
   ]
  },
  {
   "cell_type": "code",
   "execution_count": 17,
   "metadata": {},
   "outputs": [
    {
     "name": "stdout",
     "output_type": "stream",
     "text": [
      "Elapsed time: 5.7058 seconds\n",
      "Elapsed time: 5.8044 seconds\n",
      "Elapsed time: 6.1871 seconds\n",
      "Elapsed time: 6.3057 seconds\n",
      "Elapsed time: 6.6655 seconds\n",
      "Elapsed time: 6.9513 seconds\n",
      "Elapsed time: 6.9736 seconds\n",
      "Elapsed time: 7.0929 seconds\n",
      "Elapsed time: 6.8985 seconds\n",
      "Elapsed time: 7.4352 seconds\n"
     ]
    }
   ],
   "source": [
    "for i in range(10):\n",
    "    timer=Timer(\"read_parquet\")\n",
    "    with timer:\n",
    "        pd.read_parquet(path=\"./../../data/apirh.parquet\",engine=\"pyarrow\")\n",
    "    average_time['avg_time_parquet'][i]=timer.elapsed_time"
   ]
  },
  {
   "cell_type": "code",
   "execution_count": 21,
   "metadata": {},
   "outputs": [
    {
     "name": "stderr",
     "output_type": "stream",
     "text": [
      "c:\\Users\\ystfg5\\Documents\\git\\parquet-demo\\.venv\\lib\\site-packages\\seaborn\\categorical.py:470: FutureWarning: iteritems is deprecated and will be removed in a future version. Use .items instead.\n",
      "  plot_data = [np.asarray(s, float) for k, s in iter_data]\n"
     ]
    },
    {
     "data": {
      "text/plain": [
       "<AxesSubplot: >"
      ]
     },
     "execution_count": 21,
     "metadata": {},
     "output_type": "execute_result"
    },
    {
     "data": {
      "image/png": "[encoded data removed]",
      "text/plain": [
       "<Figure size 640x480 with 1 Axes>"
      ]
     },
     "metadata": {},
     "output_type": "display_data"
    }
   ],
   "source": [
    "boxplot(data=average_time)"
   ]
  }
 ],
 "metadata": {
  "kernelspec": {
   "display_name": "Python 3.10.7 ('.venv': poetry)",
   "language": "python",
   "name": "python3"
  },
  "language_info": {
   "codemirror_mode": {
    "name": "ipython",
    "version": 3
   },
   "file_extension": ".py",
   "mimetype": "text/x-python",
   "name": "python",
   "nbconvert_exporter": "python",
   "pygments_lexer": "ipython3",
   "version": "3.10.7"
  },
  "orig_nbformat": 4,
  "vscode": {
   "interpreter": {
    "hash": "73662dcfe12689270b4cacb1b6bcdfa2487aabd3dee834f1c7cc4d701adf4a32"
   }
  }
 },
 "nbformat": 4,
 "nbformat_minor": 2
}
